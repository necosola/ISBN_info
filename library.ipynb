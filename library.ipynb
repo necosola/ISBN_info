{
 "cells": [
  {
   "cell_type": "code",
   "execution_count": 1,
   "id": "6db2272c-4e05-49c5-9f6c-4fb04c43bc82",
   "metadata": {},
   "outputs": [
    {
     "name": "stdout",
     "output_type": "stream",
     "text": [
      "Requirement already satisfied: chromedriver-autoinstaller in /opt/miniconda3/lib/python3.12/site-packages (0.6.4)\n",
      "Requirement already satisfied: packaging>=23.1 in /opt/miniconda3/lib/python3.12/site-packages (from chromedriver-autoinstaller) (23.2)\n"
     ]
    }
   ],
   "source": [
    "!pip install chromedriver-autoinstaller"
   ]
  },
  {
   "cell_type": "code",
   "execution_count": 2,
   "id": "b2602fe5-95ff-4cdd-963f-521b001ff067",
   "metadata": {},
   "outputs": [
    {
     "name": "stdout",
     "output_type": "stream",
     "text": [
      "Defaulting to user installation because normal site-packages is not writeable\n",
      "Collecting pandas\n",
      "  Downloading pandas-2.2.2-cp39-cp39-macosx_10_9_x86_64.whl (12.6 MB)\n",
      "\u001b[K     |████████████████████████████████| 12.6 MB 10.3 MB/s eta 0:00:01   |█████████████▉                  | 5.4 MB 701 kB/s eta 0:00:11\n",
      "\u001b[?25hCollecting tzdata>=2022.7\n",
      "  Downloading tzdata-2024.1-py2.py3-none-any.whl (345 kB)\n",
      "\u001b[K     |████████████████████████████████| 345 kB 9.5 MB/s eta 0:00:01\n",
      "\u001b[?25hCollecting pytz>=2020.1\n",
      "  Downloading pytz-2024.1-py2.py3-none-any.whl (505 kB)\n",
      "\u001b[K     |████████████████████████████████| 505 kB 11.0 MB/s eta 0:00:01\n",
      "\u001b[?25hRequirement already satisfied: python-dateutil>=2.8.2 in /Users/solo/Library/Python/3.9/lib/python/site-packages (from pandas) (2.9.0.post0)\n",
      "Collecting numpy>=1.22.4\n",
      "  Downloading numpy-1.26.4-cp39-cp39-macosx_10_9_x86_64.whl (20.6 MB)\n",
      "\u001b[K     |████████████████████████████████| 20.6 MB 14.1 MB/s eta 0:00:01\n",
      "\u001b[?25hRequirement already satisfied: six>=1.5 in /Library/Developer/CommandLineTools/Library/Frameworks/Python3.framework/Versions/3.9/lib/python3.9/site-packages (from python-dateutil>=2.8.2->pandas) (1.15.0)\n",
      "Installing collected packages: tzdata, pytz, numpy, pandas\n",
      "Successfully installed numpy-1.26.4 pandas-2.2.2 pytz-2024.1 tzdata-2024.1\n",
      "\u001b[33mWARNING: You are using pip version 21.2.4; however, version 24.0 is available.\n",
      "You should consider upgrading via the '/Library/Developer/CommandLineTools/usr/bin/python3 -m pip install --upgrade pip' command.\u001b[0m\n",
      "Note: you may need to restart the kernel to use updated packages.\n"
     ]
    }
   ],
   "source": [
    "pip install pandas"
   ]
  },
  {
   "cell_type": "code",
   "execution_count": 3,
   "id": "d6ffa247-b5ec-4455-ac7c-5f950f0e6b93",
   "metadata": {},
   "outputs": [
    {
     "name": "stdout",
     "output_type": "stream",
     "text": [
      "Defaulting to user installation because normal site-packages is not writeable\n",
      "Collecting selenium\n",
      "  Downloading selenium-4.21.0-py3-none-any.whl (9.5 MB)\n",
      "\u001b[K     |████████████████████████████████| 9.5 MB 6.0 MB/s eta 0:00:01\n",
      "\u001b[?25hCollecting trio-websocket~=0.9\n",
      "  Downloading trio_websocket-0.11.1-py3-none-any.whl (17 kB)\n",
      "Collecting certifi>=2021.10.8\n",
      "  Downloading certifi-2024.2.2-py3-none-any.whl (163 kB)\n",
      "\u001b[K     |████████████████████████████████| 163 kB 16.1 MB/s eta 0:00:01\n",
      "\u001b[?25hCollecting trio~=0.17\n",
      "  Downloading trio-0.25.1-py3-none-any.whl (467 kB)\n",
      "\u001b[K     |████████████████████████████████| 467 kB 11.4 MB/s eta 0:00:01\n",
      "\u001b[?25hRequirement already satisfied: typing_extensions>=4.9.0 in /Users/solo/Library/Python/3.9/lib/python/site-packages (from selenium) (4.11.0)\n",
      "Collecting urllib3[socks]<3,>=1.26\n",
      "  Downloading urllib3-2.2.1-py3-none-any.whl (121 kB)\n",
      "\u001b[K     |████████████████████████████████| 121 kB 6.5 MB/s eta 0:00:01\n",
      "\u001b[?25hRequirement already satisfied: exceptiongroup in /Users/solo/Library/Python/3.9/lib/python/site-packages (from trio~=0.17->selenium) (1.2.1)\n",
      "Collecting idna\n",
      "  Downloading idna-3.7-py3-none-any.whl (66 kB)\n",
      "\u001b[K     |████████████████████████████████| 66 kB 8.8 MB/s  eta 0:00:01\n",
      "\u001b[?25hCollecting attrs>=23.2.0\n",
      "  Downloading attrs-23.2.0-py3-none-any.whl (60 kB)\n",
      "\u001b[K     |████████████████████████████████| 60 kB 8.5 MB/s  eta 0:00:01\n",
      "\u001b[?25hCollecting sniffio>=1.3.0\n",
      "  Downloading sniffio-1.3.1-py3-none-any.whl (10 kB)\n",
      "Collecting outcome\n",
      "  Downloading outcome-1.3.0.post0-py2.py3-none-any.whl (10 kB)\n",
      "Collecting sortedcontainers\n",
      "  Downloading sortedcontainers-2.4.0-py2.py3-none-any.whl (29 kB)\n",
      "Collecting wsproto>=0.14\n",
      "  Downloading wsproto-1.2.0-py3-none-any.whl (24 kB)\n",
      "Collecting pysocks!=1.5.7,<2.0,>=1.5.6\n",
      "  Downloading PySocks-1.7.1-py3-none-any.whl (16 kB)\n",
      "Collecting h11<1,>=0.9.0\n",
      "  Downloading h11-0.14.0-py3-none-any.whl (58 kB)\n",
      "\u001b[K     |████████████████████████████████| 58 kB 6.4 MB/s  eta 0:00:01\n",
      "\u001b[?25hInstalling collected packages: attrs, sortedcontainers, sniffio, outcome, idna, h11, wsproto, urllib3, trio, pysocks, trio-websocket, certifi, selenium\n",
      "Successfully installed attrs-23.2.0 certifi-2024.2.2 h11-0.14.0 idna-3.7 outcome-1.3.0.post0 pysocks-1.7.1 selenium-4.21.0 sniffio-1.3.1 sortedcontainers-2.4.0 trio-0.25.1 trio-websocket-0.11.1 urllib3-2.2.1 wsproto-1.2.0\n",
      "\u001b[33mWARNING: You are using pip version 21.2.4; however, version 24.0 is available.\n",
      "You should consider upgrading via the '/Library/Developer/CommandLineTools/usr/bin/python3 -m pip install --upgrade pip' command.\u001b[0m\n",
      "Note: you may need to restart the kernel to use updated packages.\n"
     ]
    }
   ],
   "source": [
    "pip install selenium"
   ]
  },
  {
   "cell_type": "code",
   "execution_count": 3,
   "id": "9e87d334-cbbb-41a7-86a7-5bacf9c22288",
   "metadata": {},
   "outputs": [
    {
     "name": "stderr",
     "output_type": "stream",
     "text": [
      "/Users/solo/Library/Python/3.9/lib/python/site-packages/urllib3/__init__.py:35: NotOpenSSLWarning: urllib3 v2 only supports OpenSSL 1.1.1+, currently the 'ssl' module is compiled with 'LibreSSL 2.8.3'. See: https://github.com/urllib3/urllib3/issues/3020\n",
      "  warnings.warn(\n"
     ]
    },
    {
     "ename": "ModuleNotFoundError",
     "evalue": "No module named 'chromedriver_autoinstaller'",
     "output_type": "error",
     "traceback": [
      "\u001b[0;31m---------------------------------------------------------------------------\u001b[0m",
      "\u001b[0;31mModuleNotFoundError\u001b[0m                       Traceback (most recent call last)",
      "Cell \u001b[0;32mIn[3], line 6\u001b[0m\n\u001b[1;32m      4\u001b[0m \u001b[38;5;28;01mimport\u001b[39;00m \u001b[38;5;21;01mselenium\u001b[39;00m\n\u001b[1;32m      5\u001b[0m \u001b[38;5;28;01mfrom\u001b[39;00m \u001b[38;5;21;01mselenium\u001b[39;00m \u001b[38;5;28;01mimport\u001b[39;00m webdriver\n\u001b[0;32m----> 6\u001b[0m \u001b[38;5;28;01mimport\u001b[39;00m \u001b[38;5;21;01mchromedriver_autoinstaller\u001b[39;00m\n\u001b[1;32m      8\u001b[0m \u001b[38;5;28mprint\u001b[39m(\u001b[38;5;124m'\u001b[39m\u001b[38;5;124m1\u001b[39m\u001b[38;5;124m'\u001b[39m)\n",
      "\u001b[0;31mModuleNotFoundError\u001b[0m: No module named 'chromedriver_autoinstaller'"
     ]
    }
   ],
   "source": [
    "import time\n",
    "import pandas as pd\n",
    "#from bs4 import BeautifulSoup\n",
    "import selenium\n",
    "from selenium import webdriver\n",
    "import chromedriver_autoinstaller\n",
    "\n",
    "print('1')"
   ]
  },
  {
   "cell_type": "code",
   "execution_count": 4,
   "id": "95ac1b74-c0a2-4ddd-a163-ad8b54085eb0",
   "metadata": {},
   "outputs": [
    {
     "name": "stdout",
     "output_type": "stream",
     "text": [
      "/Users/solo/Documents/GitHub/ISBN_info\n",
      "/Applications\n"
     ]
    }
   ],
   "source": [
    "import os\n",
    "print (os.getcwd())\n",
    "\n",
    "os.chdir('/Applications')\n",
    "print (os.getcwd())"
   ]
  },
  {
   "cell_type": "code",
   "execution_count": 5,
   "id": "92cdd197-1d4a-4510-8903-5368ab304105",
   "metadata": {},
   "outputs": [
    {
     "name": "stdout",
     "output_type": "stream",
     "text": [
      "2\n"
     ]
    }
   ],
   "source": [
    "# setup chrome options\n",
    "chrome_options = webdriver.ChromeOptions()\n",
    "chrome_options.add_argument('--headless') # ensure GUI is off\n",
    "chrome_options.add_argument('--no-sandbox')\n",
    "chrome_options.add_argument('--disable-dev-shm-usage')\n",
    "\n",
    "# set path to chromedriver as per your configuration\n",
    "#chromedriver_autoinstaller.install()\n",
    "print('2')\n"
   ]
  },
  {
   "cell_type": "code",
   "execution_count": 6,
   "id": "f1d9a9b1-66a5-4144-af5b-4fc26fcaac17",
   "metadata": {},
   "outputs": [],
   "source": [
    "# set up the webdriver\n",
    "driver = webdriver.Chrome(options=chrome_options)\n",
    "\n",
    "driver.implicitly_wait(10)\n"
   ]
  },
  {
   "cell_type": "code",
   "execution_count": 7,
   "id": "b9d6e1f7-468b-4648-89ab-73439f84189f",
   "metadata": {},
   "outputs": [],
   "source": [
    "from selenium.webdriver.support.ui import WebDriverWait\n",
    "from selenium.webdriver.support import expected_conditions as EC\n",
    "from selenium.webdriver.common.by import By\n",
    "from selenium.webdriver.support.select import Select\n",
    "import time"
   ]
  },
  {
   "cell_type": "code",
   "execution_count": 8,
   "id": "ce41e381-382c-46bd-a63e-4ae7b82eddd0",
   "metadata": {},
   "outputs": [
    {
     "name": "stdout",
     "output_type": "stream",
     "text": [
      "\n",
      "\n",
      "9789571352077\n",
      "全國新書資訊網／書目資料庫／書目資料查詢／簡易查詢\n",
      "書名 想像的共同體: 民族主義的起源與散布 \n",
      "作者 班納迪克.安德森(Benedict Anderson)著; 吳叡人譯 \n",
      "出版機構 時報文化 \n",
      "出版版次 二版 \n",
      "圖書類號 571.11 \n",
      "主題標題  民族主義; 歷史; Nationalism;  \n",
      "0-3歲嬰幼兒圖書分齡主題   \n",
      "3-6歲幼兒圖書分齡主題   \n",
      "適讀對象  \n",
      "分級註記  \n",
      "關鍵字詞   \n",
      "\n",
      "\n",
      "9789573291084\n",
      "全國新書資訊網／書目資料庫／書目資料查詢／簡易查詢\n",
      "書名 島之曦 \n",
      "作者 陳耀昌著 \n",
      "出版機構 遠流 \n",
      "出版版次 初版 \n",
      "圖書類號 863.57 \n",
      "主題標題  \n",
      "0-3歲嬰幼兒圖書分齡主題  \n",
      "3-6歲幼兒圖書分齡主題  \n",
      "適讀對象 成人(一般) \n",
      "分級註記 普遍級 \n",
      "關鍵字詞 台灣史、歷史小說 \n",
      "\n",
      "\n",
      "9786267014790\n",
      "全國新書資訊網／書目資料庫／書目資料查詢／簡易查詢\n",
      "書名 後中共的中國: 當中共政權解體,所有台灣人不可不知的天下大勢全推演 \n",
      "作者 范疇著 \n",
      "出版機構 今周刊 \n",
      "出版版次 初版 \n",
      "圖書類號 574.1 \n",
      "主題標題  中國大陸研究; 政治發展;;  \n",
      "0-3歲嬰幼兒圖書分齡主題   \n",
      "3-6歲幼兒圖書分齡主題   \n",
      "適讀對象 成人(一般) \n",
      "分級註記 普遍級 \n",
      "關鍵字詞   \n",
      "\n",
      "\n",
      "9789574470181\n",
      "全國新書資訊網／書目資料庫／書目資料查詢／簡易查詢\n",
      "書名 中國佛學源流略論 \n",
      "作者 呂澂著 \n",
      "出版機構 大千 \n",
      "出版版次 初版 \n",
      "圖書類號 228.2 \n",
      "主題標題  佛教;  \n",
      "0-3歲嬰幼兒圖書分齡主題   \n",
      "3-6歲幼兒圖書分齡主題   \n",
      "適讀對象  \n",
      "分級註記  \n",
      "關鍵字詞   \n"
     ]
    }
   ],
   "source": [
    "isbn_list=[9789571352077,9789573291084,9786267014790,9789574470181]\n",
    "\n",
    "for isbn in isbn_list:\n",
    "    print()\n",
    "    print()\n",
    "    print(isbn)\n",
    "    \n",
    "    #####PAGE 0#####\n",
    "    # set the target URL\n",
    "    url0 = \"https://isbn.ncl.edu.tw/NEW_ISBNNet/\"\n",
    "    driver.get(url0)\n",
    "    #print(driver.title)\n",
    "    # setting the input option to ISBN\n",
    "    searchoption = driver.find_element(By.NAME, \"FO_SearchField0\")\n",
    "    select = Select(searchoption)\n",
    "    OPT = select.select_by_value(\"ISBN\") #ISBN\n",
    "    driver.implicitly_wait(5)\n",
    "    # input the ISBN#\n",
    "    searchbook = driver.find_element(By.CLASS_NAME, \"form-control\")\n",
    "    #print(driver.title)\n",
    "    searchbook.send_keys(isbn)\n",
    "    driver.implicitly_wait(5)\n",
    "    # submit the input\n",
    "    #print(driver.title)\n",
    "    searchbook.submit()\n",
    "    driver.implicitly_wait(5)\n",
    "    \n",
    "    #####PAGE 0#####\n",
    "    #####PAGE 1#####\n",
    "    #get the link of the book\n",
    "    url1 = driver.find_element(By.XPATH, \"//table/tbody/tr[2]/td[3]/a\")\n",
    "    #print(url1.get_attribute('href'))\n",
    "    url1.click()\n",
    "    \n",
    "    print(driver.title)\n",
    "    final_page = driver.find_element(By.XPATH, \"//tbody\")\n",
    "    print(final_page.text)\n",
    "    \n",
    "    \n",
    "    \n",
    "    driver.quit\n"
   ]
  },
  {
   "cell_type": "code",
   "execution_count": null,
   "id": "36b64831-115c-40a1-a32b-88c695f82e63",
   "metadata": {},
   "outputs": [],
   "source": [
    "import selenu\n",
    "selenium.__version__"
   ]
  },
  {
   "cell_type": "code",
   "execution_count": 9,
   "id": "93563d2c-a97d-4768-a7fd-f84bb5049af7",
   "metadata": {},
   "outputs": [
    {
     "name": "stdout",
     "output_type": "stream",
     "text": [
      "hello git\n"
     ]
    }
   ],
   "source": [
    "print(\"hello git\")"
   ]
  },
  {
   "cell_type": "code",
   "execution_count": null,
   "id": "ce6b1969",
   "metadata": {},
   "outputs": [],
   "source": []
  }
 ],
 "metadata": {
  "kernelspec": {
   "display_name": "Python 3 (ipykernel)",
   "language": "python",
   "name": "python3"
  },
  "language_info": {
   "codemirror_mode": {
    "name": "ipython",
    "version": 3
   },
   "file_extension": ".py",
   "mimetype": "text/x-python",
   "name": "python",
   "nbconvert_exporter": "python",
   "pygments_lexer": "ipython3",
   "version": "3.9.6"
  }
 },
 "nbformat": 4,
 "nbformat_minor": 5
}
